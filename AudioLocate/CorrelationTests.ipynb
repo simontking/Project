{
 "cells": [
  {
   "cell_type": "code",
   "execution_count": 21,
   "metadata": {
    "collapsed": true
   },
   "outputs": [],
   "source": [
    "import matplotlib.pyplot as plt\n",
    "import cairo\n",
    "import numpy as np\n",
    "import tempfile\n",
    "import threading\n",
    "\n",
    "plt.ion\n",
    "def measure(scData, micData, fs, latency):\n",
    "    timeDiff = correlate(scData, micData, fs)\n",
    "    speedOfSound = 343\n",
    "    realDiff = timeDiff - latency\n",
    "    distance = speedOfSound*realDiff  \n",
    "    return timeDiff, distance\n",
    "\n",
    "def measureTimeOfArrival(sample, micData, fs):\n",
    "    timeDiff, acor = correlate(sample, micData, fs)\n",
    "    speedOfSound = 343\n",
    "    distance = speedOfSound*timeDiff    \n",
    "    return timeDiff, distance\n",
    "\n",
    "def correlate(baseSample, data, fs):\n",
    "    correlation_array = np.abs(np.correlate(data,baseSample,\"full\"));\n",
    "    I = np.argmax(correlation_array)\n",
    "    timeDiff = (I-(len(baseSample)-1))/fs\n",
    "    print(\"max Sample #: \",I,\"Time Difference (s): \", timeDiff)\n",
    "    return timeDiff, correlation_array"
   ]
  },
  {
   "cell_type": "code",
   "execution_count": 22,
   "metadata": {
    "collapsed": false
   },
   "outputs": [
    {
     "name": "stdout",
     "output_type": "stream",
     "text": [
      "[ 0  0  0  0  0  0  0  3 10  8 14 30 14  8 10  3  0  0  0]  max lag index: 11\n",
      "[ 0  0  0  0  0  0  0  0  0  0  0  0  0  0  0  0  0  0  0  3 10  8 14 30 14\n",
      "  8 10  3  0  0  0  0  0  0  0]  max lag index: 23\n",
      "[1, 2, 0, 4, 3, 0, 0, 0, 0, 0, 0, 0]\n"
     ]
    }
   ],
   "source": [
    "# simple cross correlation test\n",
    "# original sample\n",
    "x=[1,2,0,4,3]\n",
    "# sample with short delay\n",
    "xd=[0,0,0,0,0,0,0,1,2,0,4,3,0,0,0]\n",
    "# sample with longer delay\n",
    "xl=[0,0,0,0,0,0,0,0,0,0,0,0,0,0,0,0,0,0,0,1,2,0,4,3,0,0,0,0,0,0,0]\n",
    "\n",
    "xd_x = np.correlate(xd,x,\"full\")\n",
    "print(xd_x, ' max lag index:', np.argmax(xd_x))\n",
    "xl_x = np.correlate(xl,x,\"full\")\n",
    "print(xl_x, ' max lag index:', np.argmax(xl_x))\n",
    "# delayed sample with the calculated lag - signal length removed\n",
    "diff = np.argmax(xl_x) - (len(x)-1)\n",
    "print(xl[diff:])"
   ]
  },
  {
   "cell_type": "code",
   "execution_count": 23,
   "metadata": {
    "collapsed": false
   },
   "outputs": [
    {
     "name": "stdout",
     "output_type": "stream",
     "text": [
      "max Sample #:  1099 Time Difference (s):  1.0\n",
      "(1.0, 343.0)\n",
      "max Sample #:  2099 Time Difference (s):  2.0\n",
      "Test (2.0, 686.0)\n",
      "max Sample #:  1399 Time Difference (s):  1.3\n",
      "max Sample #:  2899 Time Difference (s):  2.8\n",
      "time differece (s):  1.5  distance (m):  514.5\n"
     ]
    },
    {
     "data": {
      "image/png": "[encoded data removed]",
      "text/plain": [
       "<matplotlib.figure.Figure at 0xbb54f6da0>"
      ]
     },
     "metadata": {},
     "output_type": "display_data"
    }
   ],
   "source": [
    "# Cross correlation of a short cosine waveform\n",
    "# Generate cosine waveform\n",
    "fs = 1000\n",
    "freq = 100\n",
    "samples = (np.sin(2*np.pi*np.arange(fs*(1/fs*100))*freq/fs)).astype(np.float32)\n",
    "# Add 1s delay by zero padding\n",
    "paddedSample = np.append(np.zeros(fs * (1)), np.append(samples, np.zeros(fs * (2))))\n",
    "print(measureTimeOfArrival(samples, paddedSample, fs))\n",
    "# Add additional 1s delay\n",
    "print(\"Test\",measureTimeOfArrival(samples, np.append(np.zeros(int(fs * (1))), paddedSample), fs))\n",
    "\n",
    "# TDOA Test\n",
    "# Create 2 samples with different delays\n",
    "firstSample = np.append(np.zeros(int(fs * (1.3))), np.append(samples, np.zeros(int(fs * (2)))))\n",
    "secondSample = np.append(np.zeros(int(fs * (2.8))), np.append(samples, np.zeros(int(fs * (1)))))\n",
    "\n",
    "f, ((ax1, ax2, ax3)) = plt.subplots(3,1)\n",
    "ax1.set_title('Recorded Data')\n",
    "ax2.set_title('Correlation')\n",
    "ax3.set_title('Aligned with lags removed')\n",
    "t0 = np.arange(0,len(samples))/fs;\n",
    "t1 = np.arange(0,len(firstSample))/fs;\n",
    "t2 = np.arange(0,len(secondSample))/fs;\n",
    "ax1.plot(t1, firstSample)\n",
    "ax1.plot(t2,secondSample)\n",
    "ax1.plot(t0, samples)    \n",
    "\n",
    "timeDiff1, acor1 = correlate(samples, firstSample, fs)\n",
    "timeDiff2, acor2 = correlate(samples, secondSample, fs)\n",
    "timeDiff = timeDiff2 - timeDiff1\n",
    "speedOfSound = 343\n",
    "distance = speedOfSound*timeDiff\n",
    "\n",
    "ax2.plot(np.arange(0,len(acor1)),acor1)\n",
    "ax2.plot(np.arange(0,len(acor2)),acor2)\n",
    "\n",
    "I = np.argmax(acor1)- (len(samples)-1)\n",
    "Dataal1 = firstSample[I:]\n",
    "t1al = np.arange(0,len(Dataal1))/fs\n",
    "I = np.argmax(acor2)- (len(samples)-1)\n",
    "Dataal2 = secondSample[I:]\n",
    "t2al = np.arange(0,len(Dataal2))/fs\n",
    "\n",
    "ax3.plot(t1al,Dataal1)\n",
    "ax3.plot(t2al,Dataal2)\n",
    "ax3.plot(t0,samples)\n",
    "plt.subplots_adjust(left=0.2, wspace=0.8, top=2)\n",
    "plt.draw()\n",
    "print('time differece (s): ',timeDiff, ' distance (m): ', distance)\n",
    "\n",
    "plt.savefig('foo.png', bbox_inches='tight')\n",
    "plt.show()"
   ]
  }
 ],
 "metadata": {
  "kernelspec": {
   "display_name": "Python 3",
   "language": "python",
   "name": "python3"
  },
  "language_info": {
   "codemirror_mode": {
    "name": "ipython",
    "version": 3
   },
   "file_extension": ".py",
   "mimetype": "text/x-python",
   "name": "python",
   "nbconvert_exporter": "python",
   "pygments_lexer": "ipython3",
   "version": "3.6.0"
  }
 },
 "nbformat": 4,
 "nbformat_minor": 2
}
