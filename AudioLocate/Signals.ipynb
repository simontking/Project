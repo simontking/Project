{
 "cells": [
  {
   "cell_type": "code",
   "execution_count": 8,
   "metadata": {
    "collapsed": false
   },
   "outputs": [
    {
     "name": "stdout",
     "output_type": "stream",
     "text": [
      "[ 0  0  0  0  0  0  0  3  7  4 11 21  9  6  7  2  0  0  0] 11\n",
      "[ 0  0  0  0  0  0  0  0  0  0  0  0  0  0  0  0  0  0  0  3  7  4 11 21  9\n",
      "  6  7  2  0  0  0  0  0  0  0] 23\n",
      "[1, 1, 0, 3, 2, 0, 0, 0, 0, 0, 0, 0]\n",
      "max Sample #:  1099 Time Difference (s):  1.0\n",
      "(1.0, 343.0)\n",
      "max Sample #:  2099 Time Difference (s):  2.0\n",
      "Test (2.0, 686.0)\n",
      "max Sample #:  1399 Time Difference (s):  1.3\n",
      "max Sample #:  2899 Time Difference (s):  2.8\n",
      "(1.4999999999999998, 514.49999999999989)\n"
     ]
    },
    {
     "data": {
      "image/png": "[encoded data removed]",
      "text/plain": [
       "<matplotlib.figure.Figure at 0xbb5683390>"
      ]
     },
     "metadata": {},
     "output_type": "display_data"
    },
    {
     "data": {
      "image/png": "[encoded data removed]",
      "text/plain": [
       "<matplotlib.figure.Figure at 0xbb551aac8>"
      ]
     },
     "metadata": {},
     "output_type": "display_data"
    }
   ],
   "source": [
    "import matplotlib.pyplot as plt\n",
    "import cairo\n",
    "import numpy as np\n",
    "import tempfile\n",
    "import threading\n",
    "\n",
    "plt.ion\n",
    "def measure(scData, micData, fs, latency):\n",
    "    timeDiff = correlate(scData, micData, fs)\n",
    "    speedOfSound = 343\n",
    "    realDiff = timeDiff - latency\n",
    "    distance = speedOfSound*realDiff  \n",
    "    return timeDiff, distance\n",
    "\n",
    "def measureTimeOfArrival(sample, micData, fs):\n",
    "    timeDiff, acor = correlate(sample, micData, fs)\n",
    "    speedOfSound = 343\n",
    "    distance = speedOfSound*timeDiff    \n",
    "    return timeDiff, distance\n",
    "\n",
    "def measureTimeDifferenceOfArrival(sample, firstSample, secondSample, fs):\n",
    "    f, ((ax1, ax2, ax3)) = plt.subplots(3,1)\n",
    "    ax1.set_title('Correlation')\n",
    "    ax2.set_title('Recorded Data')\n",
    "    ax3.set_title('mic, aligned')\n",
    "    timeDiff1, acor1 = correlate(sample, firstSample, fs)\n",
    "    timeDiff2, acor2 = correlate(sample, secondSample, fs)\n",
    "    timeDiff = timeDiff2 - timeDiff1\n",
    "    speedOfSound = 343\n",
    "    distance = speedOfSound*timeDiff\n",
    "    ax1.clear()\n",
    "    ax1.plot(np.arange(0,len(acor1)),acor1)\n",
    "    ax1.plot(np.arange(0,len(acor2)),acor2)\n",
    "    t0 = np.arange(0,len(sample))/fs;\n",
    "    t1 = np.arange(0,len(firstSample))/fs;\n",
    "    t2 = np.arange(0,len(secondSample))/fs;\n",
    "    ax2.clear()\n",
    "    ax2.plot(t1, firstSample)\n",
    "    ax2.plot(t2,secondSample)\n",
    "    ax2.plot(t0, sample)    \n",
    "    I = np.argmax(acor1)- (len(sample)-1)\n",
    "    Dataal1 = firstSample[I:]\n",
    "    t1al = np.arange(0,len(Dataal1))/fs\n",
    "    I = np.argmax(acor2)- (len(sample)-1)\n",
    "    Dataal2 = secondSample[I:]\n",
    "    t2al = np.arange(0,len(Dataal2))/fs\n",
    "    ax3.clear() \n",
    "    ax3.plot(t1al,Dataal1)\n",
    "    ax3.plot(t2al,Dataal2)\n",
    "    ax3.plot(t0,sample)\n",
    "    plt.draw()\n",
    "    return timeDiff, distance\n",
    "\n",
    "def correlate(baseSample, data, fs):\n",
    "    acor = np.correlate(data,baseSample,\"full\");\n",
    "    I = np.argmax(acor)\n",
    "    timeDiff = (I-(len(baseSample)-1))/fs\n",
    "    print(\"max Sample #: \",I,\"Time Difference (s): \", timeDiff)\n",
    "    return timeDiff, acor\n",
    "\n",
    "# generate samples\n",
    "x=[1,2,0,4,3]\n",
    "xd=[0,0,0,0,0,0,0,1,1,0,3,2,0,0,0]\n",
    "xl=[0,0,0,0,0,0,0,0,0,0,0,0,0,0,0,0,0,0,0,1,1,0,3,2,0,0,0,0,0,0,0]\n",
    "xd_x = np.correlate(xd,x,\"full\")\n",
    "print(xd_x, np.argmax(xd_x))\n",
    "xl_x = np.correlate(xl,x,\"full\")\n",
    "print(xl_x, np.argmax(xl_x))\n",
    "diff = np.argmax(xl_x) - (len(x)-1)\n",
    "print(xl[diff:])\n",
    "\n",
    "fs = 1000\n",
    "freq = 100\n",
    "samples = (np.sin(2*np.pi*np.arange(fs*(1/fs*100))*freq/fs)).astype(np.float32)\n",
    "paddedSample = np.append(np.zeros(fs * (1)), np.append(samples, np.zeros(fs * (2))))\n",
    "print(measureTimeOfArrival(samples, paddedSample, fs))\n",
    "print(\"Test\",measureTimeOfArrival(samples, np.append(np.zeros(int(fs * (1))), paddedSample), fs))\n",
    "firstSample = np.append(np.zeros(int(fs * (1.3))), np.append(samples, np.zeros(int(fs * (2)))))\n",
    "secondSample = np.append(np.zeros(int(fs * (2.8))), np.append(samples, np.zeros(int(fs * (1)))))\n",
    "print(measureTimeDifferenceOfArrival(samples, firstSample, secondSample, fs))\n",
    "plt.savefig('foo.png', bbox_inches='tight')\n",
    "plt.show()"
   ]
  }
 ],
 "metadata": {
  "kernelspec": {
   "display_name": "Python 3",
   "language": "python",
   "name": "python3"
  },
  "language_info": {
   "codemirror_mode": {
    "name": "ipython",
    "version": 3
   },
   "file_extension": ".py",
   "mimetype": "text/x-python",
   "name": "python",
   "nbconvert_exporter": "python",
   "pygments_lexer": "ipython3",
   "version": "3.6.0"
  }
 },
 "nbformat": 4,
 "nbformat_minor": 2
}
